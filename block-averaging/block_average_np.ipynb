{
 "cells": [
  {
   "cell_type": "markdown",
   "id": "global-karen",
   "metadata": {},
   "source": [
    "### Import relevant modules"
   ]
  },
  {
   "cell_type": "code",
   "execution_count": 2,
   "id": "historic-conspiracy",
   "metadata": {},
   "outputs": [],
   "source": [
    "import math\n",
    "import sys\n",
    "import numpy as np\n",
    "import pandas as pd\n",
    "import matplotlib.pyplot as plt\n",
    "import matplotlib.ticker as ticker\n",
    "import seaborn as sns"
   ]
  },
  {
   "cell_type": "markdown",
   "id": "desperate-approval",
   "metadata": {},
   "source": [
    "# Methodology: \n",
    "First, we calculate the unbiasing weights associated with each conformation sampled during the metadynamics simulation. For this purpose, we can use either of the following two approaches: \n",
    "1. Weights are calculated by considering the time-dependence of the bias potential\n",
    "2. Weights are calculated using the bias potential obtained at the end of the simulation. This involves assuming a constant bias throughout the simulation. \n",
    "Below, we will use Method 2.\n",
    "\n",
    "To calculate the weights, we need to use the PLUMED driver utility to read the HILLS file and the GROMACS trajectory file produced during the metadynamics simulation.\n",
    "\n",
    "Install PLUMED from https://www.plumed.org/doc-v2.7/user-doc/html/masterclass-21-1.html. "
   ]
  },
  {
   "cell_type": "markdown",
   "id": "unusual-ethiopia",
   "metadata": {},
   "source": [
    "#### Some relevant constants"
   ]
  },
  {
   "cell_type": "code",
   "execution_count": 15,
   "id": "arctic-guess",
   "metadata": {},
   "outputs": [],
   "source": [
    "kbt=2.494339\n",
    "minS=1.0\n",
    "maxS=114.0\n",
    "minS_actual=1.03\n",
    "maxS_actual=112.9\n",
    "nbin=25"
   ]
  },
  {
   "cell_type": "markdown",
   "id": "annoying-player",
   "metadata": {},
   "source": [
    "### Evaluate bias on the full simulation using HILLS file and .xtc file by running PLUMED\n",
    "#### This PLUMED run generates a COLVAR file with time-independent bias"
   ]
  },
  {
   "cell_type": "code",
   "execution_count": null,
   "id": "broken-metropolitan",
   "metadata": {},
   "outputs": [],
   "source": [
    "%%bash\n",
    "plumed driver --plumed plumed.dat --mf_xtc abl1_md.xtc"
   ]
  },
  {
   "cell_type": "markdown",
   "id": "absent-booth",
   "metadata": {},
   "source": [
    "#### Read the COLVAR file"
   ]
  },
  {
   "cell_type": "code",
   "execution_count": 5,
   "id": "cellular-album",
   "metadata": {},
   "outputs": [],
   "source": [
    "data=pd.read_csv(\"COLVAR\",sep=\"\\s+\", header=None, skiprows=1,usecols=[1,2,3]) \n",
    "data.columns=['s(R)','z(R)','bias']\n",
    "data['s(R)']=data['s(R)'].round(2)"
   ]
  },
  {
   "cell_type": "markdown",
   "id": "square-shower",
   "metadata": {},
   "source": [
    "#### Calculate Maximum bias"
   ]
  },
  {
   "cell_type": "code",
   "execution_count": 6,
   "id": "synthetic-melbourne",
   "metadata": {},
   "outputs": [],
   "source": [
    "bmax=data['bias'].max()"
   ]
  },
  {
   "cell_type": "markdown",
   "id": "blessed-concentration",
   "metadata": {},
   "source": [
    "#### Calculate Boltzmann weights and write them to a file named \"sR.weight\""
   ]
  },
  {
   "cell_type": "code",
   "execution_count": 7,
   "id": "adjusted-aruba",
   "metadata": {},
   "outputs": [],
   "source": [
    "data['weights']=np.exp((data['bias']-bmax)/kbt)\n",
    "data.to_csv(\"sR.weight\",index=False,sep=\"\\t\",columns=['s(R)','weights'])"
   ]
  },
  {
   "cell_type": "markdown",
   "id": "hourly-amsterdam",
   "metadata": {},
   "source": [
    "#### Calculate bin width"
   ]
  },
  {
   "cell_type": "code",
   "execution_count": 8,
   "id": "muslim-temperature",
   "metadata": {},
   "outputs": [],
   "source": [
    "bin_width = round((maxS-minS)/float(nbin-1),2)"
   ]
  },
  {
   "cell_type": "markdown",
   "id": "democratic-arbitration",
   "metadata": {},
   "source": [
    "# Block averaging"
   ]
  },
  {
   "cell_type": "markdown",
   "id": "personal-austria",
   "metadata": {},
   "source": [
    "## Binning of data using cut: Create 25 equal-sized bins of s(R)"
   ]
  },
  {
   "cell_type": "code",
   "execution_count": 9,
   "id": "unexpected-emerald",
   "metadata": {},
   "outputs": [],
   "source": [
    "weightdf=pd.read_csv('sR.weight',sep=\"\\t\")\n",
    "weightdf.columns=['s(R)','weights']\n",
    "weightdf['bin_index'] = pd.cut(weightdf['s(R)'],bins=nbin,labels=[i for i in range(nbin)])"
   ]
  },
  {
   "cell_type": "code",
   "execution_count": 10,
   "id": "according-techno",
   "metadata": {},
   "outputs": [],
   "source": [
    "bin_list=list(weightdf['bin_index'].unique())"
   ]
  },
  {
   "cell_type": "markdown",
   "id": "liberal-compatibility",
   "metadata": {},
   "source": [
    "### Block sizes from 10 to 500 with steps of 10"
   ]
  },
  {
   "cell_type": "code",
   "execution_count": 59,
   "id": "rural-gender",
   "metadata": {},
   "outputs": [],
   "source": [
    "block_size = np.array([i for i in range(10,510,10)])\n",
    "nblocks = np.array(len(data)/block_size).astype(int)"
   ]
  },
  {
   "cell_type": "markdown",
   "id": "surgical-dominant",
   "metadata": {},
   "source": [
    "#### We perform block averaging by dividing data in \"weighdf\" containing bias weights into several blocks. We can try different block sizes ranging from 10 to 500 in steps of 10. We need a separate block averaging calculation for each block size. For each block size, do the following steps:\n",
    "\n",
    "#### Algorithm: Take 1 block at a time $\\rightarrow$ Sort into bins $\\rightarrow$ do block average within each bin $\\rightarrow$ store block averages and squared block averages in a series and update these values in a cumulative manner $\\rightarrow$  Go to a new block and repeat\n",
    "\n",
    "1. Create a \"block\" dataframe starting with \"start\" timeframe and taking upto \"end\" timeframe that differs from start by \"block_size\".\n",
    "2. Using this \"block\" dataframe, create a \"block_grp\" groupby object to sort data by bins.\n",
    "3. Compute block average within each bin and store the data into \"block_ave\" series object.\n",
    "4. Store block averages within each bin in \"xbar\" series and squared block averages in each bin in \"xbarsq\" series in a cumulative manner as we loop over the blocks.\n",
    "5. Store number of blocks (nblocks; 0), block_size (n; 1), block averages (xbar; 2), squared block averages (xbarsq; 3) as a tuple in \"xbar_xbarsq\" list."
   ]
  },
  {
   "cell_type": "code",
   "execution_count": 63,
   "id": "dental-nursery",
   "metadata": {},
   "outputs": [],
   "source": [
    "xbar_xbarsq=[]\n",
    "for i in range(len(block_size)):\n",
    "    xbar=pd.Series(index=bin_list,dtype=float,data=0)\n",
    "    xbarsq=pd.Series(index=bin_list,dtype=float,data=0)\n",
    "    for nblock in range(0, nblocks[i]): # loop over each block\n",
    "        n = block_size[i]\n",
    "        start = nblock * n # start timeframe for block\n",
    "        end = start + n   # End timeframe for block \n",
    "        weightcopy=weightdf.copy()\n",
    "        block=weightcopy[start:end]\n",
    "        block_grp=block.groupby('bin_index') \n",
    "        block_ave=block_grp['weights'].sum()/n\n",
    "        for binn in range(len(bin_list)):\n",
    "            xbar[binn]+=block_ave[binn]\n",
    "            xbarsq[binn]+=block_ave[binn]*block_ave[binn]\n",
    "    xbar_xbarsq.append((nblocks[i],block_size[i],xbar,xbarsq))"
   ]
  },
  {
   "cell_type": "markdown",
   "id": "authorized-antibody",
   "metadata": {},
   "source": [
    "### Calculate average Gibbs free energies and estimate standard error"
   ]
  },
  {
   "cell_type": "markdown",
   "id": "infinite-mixer",
   "metadata": {},
   "source": [
    "1. Now, we obtain average weight $\\bar{w}$ within each bin by dividing block_ave by blocksize (n)\n",
    "2. Free energy is given by $G = -k_bT.\\ln\\bar{w}$\n",
    "3. Variance in bias is calculated as $$\\sigma^2(\\bar w)=\\frac{\\bar{w}^²-\\bar{(w)}^2}{(n-1)}$$\n",
    "4. Variance in free-energy is calculated as:\n",
    "\n",
    "$$\\sigma^2(G)=\\sigma^2(-k_bT\\ln\\bar{w})$$\n",
    "$$\\sigma^2(G)=(k_bT)^2.\\sigma^2(\\ln\\bar{w})$$\n",
    "\n",
    "Using the delta method, in order to obtain a variance of a function of x (that is normally distributed) we can take derivative of function with respect to x and then divide var(x) by the square of derivative of the function\n",
    "\n",
    "$$\\sigma^2(\\ln\\bar w)=\\frac{1}{\\bar{w}^²}.\\sigma^2(\\bar{w})$$\n",
    "\n",
    "\n",
    "$$\\sigma^2(G)=\\left(\\frac{k_bT}{\\bar w}\\right)^2.\\sigma^2(w)$$\n",
    "\n",
    "5. Standard error is estimated as $$error(G) =\\sqrt\\frac{\\sigma^2(G)}{n}$$\n",
    "\n",
    "\n",
    "$$error(G) =\\frac{k_bT}{\\bar w}\\sqrt\\frac{\\sigma^2(\\bar w)}{n}$$\n",
    "\n",
    "6. For each block size (n), we save a separate fes{n}-np.dat file that contains values of s(R), norm. s(R), average free-energies within each bin, and the associated error (in kcal/mol)"
   ]
  },
  {
   "cell_type": "code",
   "execution_count": 70,
   "id": "destroyed-makeup",
   "metadata": {},
   "outputs": [],
   "source": [
    "sR_series = pd.Series(dtype=float,data=[(minS + (float(i) * bin_width)) for i in range(len(bin_list))])\n",
    "for i in range(len(block_size)):\n",
    "    numblock=xbar_xbarsq[i][0]\n",
    "    n=xbar_xbarsq[i][1]\n",
    "    result=pd.DataFrame()\n",
    "    result['s(R)']=sR_series\n",
    "    result['norm s(R)']=(result['s(R)']-minS)/(maxS-minS)\n",
    "    result['Weight']=xbar_xbarsq[i][2]/n # point 1: average weight (wbar) calculation\n",
    "    result['Free Energy']=-kbt * np.log(result['Weight']) # point 2: free-energy calculation\n",
    "    result[r'$\\sigma^2(w)$']= (xbar_xbarsq[i][3]-result['Weight']**2)/(n-1)  # point 3: bias variance calculation\n",
    "    result['error']=(kbt/result['Weight'])*(np.sqrt(result[r'$\\sigma^2(w)$']/n)) # point 5: error calculation\n",
    "    outdf=result[['s(R)','norm s(R)','Free Energy','error']].copy()\n",
    "    outdf['Free Energy']=(outdf['Free Energy']-outdf['Free Energy'].min())/4.184 # make min zero and unit conv.\n",
    "    outdf['error']=outdf['error']/4.184\n",
    "    outdf=outdf.round(2)\n",
    "    outdf.to_csv(f'fes{n}-np.dat',sep=\"\\t\",index=False)"
   ]
  },
  {
   "cell_type": "markdown",
   "id": "legitimate-angel",
   "metadata": {},
   "source": [
    "### Error estimation\n",
    "Read errors in each bin and compute average error over all the bins and store in err.blocks"
   ]
  },
  {
   "cell_type": "code",
   "execution_count": 67,
   "id": "municipal-pearl",
   "metadata": {},
   "outputs": [],
   "source": [
    "%%bash\n",
    "echo > err.blocks\n",
    "for i in {10..500..10}\n",
    "do\n",
    " a=$(awk '{tot+=$4}END{print (tot/NR)}' fes\"$i\"-np.dat)\n",
    " echo $i $a >> err.blocks\n",
    "done"
   ]
  },
  {
   "cell_type": "markdown",
   "id": "impressed-split",
   "metadata": {},
   "source": [
    "### Plotting of mean error over all the bins vs. block size"
   ]
  },
  {
   "cell_type": "code",
   "execution_count": 68,
   "id": "durable-lunch",
   "metadata": {},
   "outputs": [
    {
     "data": {
      "image/png": "[encoded data removed]",
      "text/plain": [
       "<Figure size 237.6x237.6 with 1 Axes>"
      ]
     },
     "metadata": {
      "needs_background": "light"
     },
     "output_type": "display_data"
    }
   ],
   "source": [
    "df=pd.read_csv(\"err.blocks\",sep=\"\\s+\",header=None,skiprows=1)\n",
    "\n",
    "fig,ax=plt.subplots(figsize=(3.3,3.3))\n",
    "\n",
    "\n",
    "ax.plot(df[0],df[1])\n",
    "ax.set_ylim([0.10,0.40])\n",
    "ax.set_xlim([0,500])\n",
    "ax.set_xlabel(r'Block size')\n",
    "ax.set_ylabel('Error (kcal/mol)')\n",
    "\n",
    "plt.rcParams['font.family'] = \"sans-serif\"\n",
    "\n",
    "ax.xaxis.set_minor_locator(ticker.MultipleLocator(50))\n",
    "ax.yaxis.set_minor_locator(ticker.MultipleLocator(0.025))\n",
    "plt.tight_layout()\n",
    "plt.savefig(\"error-non-phos.pdf\",dpi=600)"
   ]
  }
 ],
 "metadata": {
  "kernelspec": {
   "display_name": "Python 3",
   "language": "python",
   "name": "python3"
  },
  "language_info": {
   "codemirror_mode": {
    "name": "ipython",
    "version": 3
   },
   "file_extension": ".py",
   "mimetype": "text/x-python",
   "name": "python",
   "nbconvert_exporter": "python",
   "pygments_lexer": "ipython3",
   "version": "3.7.9"
  }
 },
 "nbformat": 4,
 "nbformat_minor": 5
}
