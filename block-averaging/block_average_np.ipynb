{
 "cells": [
  {
   "cell_type": "code",
   "execution_count": 1,
   "id": "historic-conspiracy",
   "metadata": {},
   "outputs": [],
   "source": [
    "import math\n",
    "import sys\n",
    "import numpy as np\n",
    "import pandas as pd\n",
    "import matplotlib.pyplot as plt\n",
    "import matplotlib.ticker as ticker\n",
    "import seaborn as sns"
   ]
  },
  {
   "cell_type": "code",
   "execution_count": 3,
   "id": "refined-calgary",
   "metadata": {},
   "outputs": [
    {
     "name": "stderr",
     "output_type": "stream",
     "text": [
      "UsageError: %%bash is a cell magic, but the cell body is empty.\n"
     ]
    }
   ],
   "source": [
    "%%bash\n"
   ]
  },
  {
   "cell_type": "markdown",
   "id": "desperate-approval",
   "metadata": {},
   "source": [
    "# Methodology: \n",
    "First, we calculate the \"un-biasing\" weights associated with each conformation sampled during the metadynamics simulation. In order to calculate these weights, we can use either of the two approaches: weights are calculated by considering the time-dependence of the metadynamics bias potential; Weights are calculated using the metadynamics bias potential obtained at the end of the simulation and assuming a constant bias during the entire course of the simulation. In this exercise we will use the umbrella-sampling-like reweighting approach (Method 2).To calculate the weights, we need to use the PLUMED driver utility and read the HILLS file along with the GROMACS trajectory file produced during the metadynamics simulation."
   ]
  },
  {
   "cell_type": "code",
   "execution_count": 4,
   "id": "arctic-guess",
   "metadata": {},
   "outputs": [],
   "source": [
    "kbt=2.494339\n",
    "minS=1.0\n",
    "maxS=114.0\n",
    "minS_actual=1.03\n",
    "maxS_actual=112.9\n",
    "nbin=25"
   ]
  },
  {
   "cell_type": "markdown",
   "id": "annoying-player",
   "metadata": {},
   "source": [
    "### Evaluate bias on the full simulation"
   ]
  },
  {
   "cell_type": "code",
   "execution_count": 5,
   "id": "broken-metropolitan",
   "metadata": {},
   "outputs": [
    {
     "name": "stdout",
     "output_type": "stream",
     "text": [
      "\n",
      "DRIVER: Found molfile format trajectory xtc with name abl1_md.xtc\n",
      "PLUMED: PLUMED is starting\n",
      "PLUMED: Version: 2.7.0 (git: Unknown) compiled on Dec 23 2020 at 20:21:21\n",
      "PLUMED: Please cite these papers when using PLUMED [1][2]\n",
      "PLUMED: For further information see the PLUMED web page at http://www.plumed.org\n",
      "PLUMED: Root: /home/baoraa/anaconda3/envs/plumed-masterclass/lib/plumed\n",
      "PLUMED: For installed feature, see /home/baoraa/anaconda3/envs/plumed-masterclass/lib/plumed/src/config/config.txt\n",
      "PLUMED: Molecular dynamics engine: driver\n",
      "PLUMED: Precision of reals: 8\n",
      "PLUMED: Running over 1 node\n",
      "PLUMED: Number of threads: 1\n",
      "PLUMED: Cache line size: 512\n",
      "PLUMED: Number of atoms: 67927\n",
      "PLUMED: File suffix: \n",
      "PLUMED: FILE: plumed.dat\n",
      "PLUMED: Action RESTART\n",
      "PLUMED:   with label @0\n",
      "PLUMED:   MD code didn't require restart\n",
      "PLUMED:   Switching on restart\n",
      "PLUMED:   Restarting simulation: files will be appended\n",
      "PLUMED: Action PATHMSD\n",
      "PLUMED:   with label p1\n",
      "PLUMED: Opening reference file path.pdb\n",
      "PLUMED:   found % atoms in input \n",
      "PLUMED:   with indices : \n",
      "PLUMED: 5 29 44 61 76 100 114 126 145 159 176 198 215 237 256 263 270 277 294 315 322 337 353 374 389 \n",
      "PLUMED: 396 412 436 458 480 501 512 531 545 561 571 587 609 623 642 664 679 691 705 722 737 753 768 783 803 \n",
      "PLUMED: 822 844 859 869 879 895 912 934 949 968 990 1009 1021 1035 1054 1070 1087 1106 1125 1132 1148 1159 1173 1197 1214 \n",
      "PLUMED: 1228 1240 1260 1281 1300 1319 1333 1348 1368 1385 1399 1420 1427 1441 1460 1479 1491 1512 1531 1555 1570 1581 1595 1619 1636 \n",
      "PLUMED: 1651 1667 1681 1691 1707 1723 1742 1761 1782 1799 1809 1823 1840 1859 1870 1881 1891 1908 1923 1944 1963 1978 2000 2022 2036 \n",
      "PLUMED: 2056 2075 2092 2116 2128 2147 2157 2167 2191 2205 2216 2235 2251 2258 2273 2287 2304 2323 2339 2361 2377 2387 2399 2419 2426 \n",
      "PLUMED: 2445 2456 2480 2499 2516 2530 2537 2549 2563 2584 2598 2608 2625 2635 2642 2652 2674 2696 2708 2727 2749 2773 2787 2799 2811 \n",
      "PLUMED: 2826 2837 2856 2866 2887 2901 2923 2943 2954 2973 2995 3006 3018 3034 3058 3068 3088 3095 3111 3130 3149 3173 3188 3207 3217 \n",
      "PLUMED: 3231 3252 3259 3276 3289 3301 3324 3336 3343 3362 3374 3393 3404 3421 3437 3458 3473 3492 3511 3526 3548 3560 3581 3605 3622 \n",
      "PLUMED: 3637 3663 3675 3690 3697 3710 3722 3737 3759 3775 3796 3811 3830 3847 3871 3881 3892 3916 3933 3957 3973 3985 3996 4008 4034 \n",
      "PLUMED: 4046 4057 4077 4087 4102 4121 4138 4155 4165 4185 4200 4214 4231 \n",
      "PLUMED: Found PDB: 1 containing  263 atoms\n",
      "PLUMED: Found PDB: 2 containing  263 atoms\n",
      "PLUMED: Found PDB: 3 containing  263 atoms\n",
      "PLUMED: Found PDB: 4 containing  263 atoms\n",
      "PLUMED: Found PDB: 5 containing  263 atoms\n",
      "PLUMED: Found PDB: 6 containing  263 atoms\n",
      "PLUMED: Found PDB: 7 containing  263 atoms\n",
      "PLUMED: Found PDB: 8 containing  263 atoms\n",
      "PLUMED: Found PDB: 9 containing  263 atoms\n",
      "PLUMED: Found PDB: 10 containing  263 atoms\n",
      "PLUMED: Found PDB: 11 containing  263 atoms\n",
      "PLUMED: Found PDB: 12 containing  263 atoms\n",
      "PLUMED: Found PDB: 13 containing  263 atoms\n",
      "PLUMED: Found PDB: 14 containing  263 atoms\n",
      "PLUMED: Found PDB: 15 containing  263 atoms\n",
      "PLUMED: Found PDB: 16 containing  263 atoms\n",
      "PLUMED: Found PDB: 17 containing  263 atoms\n",
      "PLUMED: Found PDB: 18 containing  263 atoms\n",
      "PLUMED: Found PDB: 19 containing  263 atoms\n",
      "PLUMED: Found PDB: 20 containing  263 atoms\n",
      "PLUMED: Found PDB: 21 containing  263 atoms\n",
      "PLUMED: Found PDB: 22 containing  263 atoms\n",
      "PLUMED: Found PDB: 23 containing  263 atoms\n",
      "PLUMED: Found PDB: 24 containing  263 atoms\n",
      "PLUMED: Found PDB: 25 containing  263 atoms\n",
      "PLUMED: Found PDB: 26 containing  263 atoms\n",
      "PLUMED: Found PDB: 27 containing  263 atoms\n",
      "PLUMED: Found PDB: 28 containing  263 atoms\n",
      "PLUMED: Found PDB: 29 containing  263 atoms\n",
      "PLUMED: Found PDB: 30 containing  263 atoms\n",
      "PLUMED: Found PDB: 31 containing  263 atoms\n",
      "PLUMED: Found PDB: 32 containing  263 atoms\n",
      "PLUMED: Found PDB: 33 containing  263 atoms\n",
      "PLUMED: Found PDB: 34 containing  263 atoms\n",
      "PLUMED: Found PDB: 35 containing  263 atoms\n",
      "PLUMED: Found PDB: 36 containing  263 atoms\n",
      "PLUMED: Found PDB: 37 containing  263 atoms\n",
      "PLUMED: Found PDB: 38 containing  263 atoms\n",
      "PLUMED: Found PDB: 39 containing  263 atoms\n",
      "PLUMED: Found PDB: 40 containing  263 atoms\n",
      "PLUMED: Found PDB: 41 containing  263 atoms\n",
      "PLUMED: Found PDB: 42 containing  263 atoms\n",
      "PLUMED: Found PDB: 43 containing  263 atoms\n",
      "PLUMED: Found PDB: 44 containing  263 atoms\n",
      "PLUMED: Found PDB: 45 containing  263 atoms\n",
      "PLUMED: Found PDB: 46 containing  263 atoms\n",
      "PLUMED: Found PDB: 47 containing  263 atoms\n",
      "PLUMED: Found PDB: 48 containing  263 atoms\n",
      "PLUMED: Found PDB: 49 containing  263 atoms\n",
      "PLUMED: Found PDB: 50 containing  263 atoms\n",
      "PLUMED: Found PDB: 51 containing  263 atoms\n",
      "PLUMED: Found PDB: 52 containing  263 atoms\n",
      "PLUMED: Found PDB: 53 containing  263 atoms\n",
      "PLUMED: Found PDB: 54 containing  263 atoms\n",
      "PLUMED: Found PDB: 55 containing  263 atoms\n",
      "PLUMED: Found PDB: 56 containing  263 atoms\n",
      "PLUMED: Found PDB: 57 containing  263 atoms\n",
      "PLUMED: Found PDB: 58 containing  263 atoms\n",
      "PLUMED: Found PDB: 59 containing  263 atoms\n",
      "PLUMED: Found PDB: 60 containing  263 atoms\n",
      "PLUMED: Found PDB: 61 containing  263 atoms\n",
      "PLUMED: Found PDB: 62 containing  263 atoms\n",
      "PLUMED: Found PDB: 63 containing  263 atoms\n",
      "PLUMED: Found PDB: 64 containing  263 atoms\n",
      "PLUMED: Found PDB: 65 containing  263 atoms\n",
      "PLUMED: Found PDB: 66 containing  263 atoms\n",
      "PLUMED: Found PDB: 67 containing  263 atoms\n",
      "PLUMED: Found PDB: 68 containing  263 atoms\n",
      "PLUMED: Found PDB: 69 containing  263 atoms\n",
      "PLUMED: Found PDB: 70 containing  263 atoms\n",
      "PLUMED: Found PDB: 71 containing  263 atoms\n",
      "PLUMED: Found PDB: 72 containing  263 atoms\n",
      "PLUMED: Found PDB: 73 containing  263 atoms\n",
      "PLUMED: Found PDB: 74 containing  263 atoms\n",
      "PLUMED: Found PDB: 75 containing  263 atoms\n",
      "PLUMED: Found PDB: 76 containing  263 atoms\n",
      "PLUMED: Found PDB: 77 containing  263 atoms\n",
      "PLUMED: Found PDB: 78 containing  263 atoms\n",
      "PLUMED: Found PDB: 79 containing  263 atoms\n",
      "PLUMED: Found PDB: 80 containing  263 atoms\n",
      "PLUMED: Found PDB: 81 containing  263 atoms\n",
      "PLUMED: Found PDB: 82 containing  263 atoms\n",
      "PLUMED: Found PDB: 83 containing  263 atoms\n",
      "PLUMED: Found PDB: 84 containing  263 atoms\n",
      "PLUMED: Found PDB: 85 containing  263 atoms\n",
      "PLUMED: Found PDB: 86 containing  263 atoms\n",
      "PLUMED: Found PDB: 87 containing  263 atoms\n",
      "PLUMED: Found PDB: 88 containing  263 atoms\n",
      "PLUMED: Found PDB: 89 containing  263 atoms\n",
      "PLUMED: Found PDB: 90 containing  263 atoms\n",
      "PLUMED: Found PDB: 91 containing  263 atoms\n",
      "PLUMED: Found PDB: 92 containing  263 atoms\n",
      "PLUMED: Found PDB: 93 containing  263 atoms\n",
      "PLUMED: Found PDB: 94 containing  263 atoms\n",
      "PLUMED: Found PDB: 95 containing  263 atoms\n",
      "PLUMED: Found PDB: 96 containing  263 atoms\n",
      "PLUMED: Found PDB: 97 containing  263 atoms\n",
      "PLUMED: Found PDB: 98 containing  263 atoms\n",
      "PLUMED: Found PDB: 99 containing  263 atoms\n",
      "PLUMED: Found PDB: 100 containing  263 atoms\n",
      "PLUMED: Found PDB: 101 containing  263 atoms\n",
      "PLUMED: Found PDB: 102 containing  263 atoms\n",
      "PLUMED: Found PDB: 103 containing  263 atoms\n",
      "PLUMED: Found PDB: 104 containing  263 atoms\n",
      "PLUMED: Found PDB: 105 containing  263 atoms\n",
      "PLUMED: Found PDB: 106 containing  263 atoms\n",
      "PLUMED: Found PDB: 107 containing  263 atoms\n",
      "PLUMED: Found PDB: 108 containing  263 atoms\n",
      "PLUMED: Found PDB: 109 containing  263 atoms\n",
      "PLUMED: Found PDB: 110 containing  263 atoms\n",
      "PLUMED: Found PDB: 111 containing  263 atoms\n",
      "PLUMED: Found PDB: 112 containing  263 atoms\n",
      "PLUMED: Found PDB: 113 containing  263 atoms\n",
      "PLUMED: Found PDB: 114 containing  263 atoms\n",
      "PLUMED: Found TOTAL 114 PDB in the file path.pdb \n",
      "PLUMED:   Neighbor list NOT enabled \n",
      "PLUMED:   using periodic boundary conditions\n",
      "PLUMED:   Bibliography [3]\n",
      "PLUMED:   added component to this action:  p1.sss \n",
      "PLUMED:   added component to this action:  p1.zzz \n",
      "PLUMED: Action METAD\n",
      "PLUMED:   with label mtd\n",
      "PLUMED:   with arguments p1.sss p1.zzz\n",
      "PLUMED:   added component to this action:  mtd.bias \n",
      "PLUMED:   Binsize not specified, 1/5 of sigma will be be used\n",
      "PLUMED:   Gaussian width  2.000000 0.005000  Gaussian height 0.000000\n",
      "PLUMED:   Gaussian deposition pace 1000000000\n",
      "PLUMED:   Gaussian file HILLS\n",
      "PLUMED:   Well-Tempered Bias Factor 30.000000\n",
      "PLUMED:   Hills relaxation time (tau) inf\n",
      "PLUMED:   KbT 74.830159\n",
      "PLUMED:   Grid min 0.0 -0.12\n",
      "PLUMED:   Grid max 115.0 0.12\n",
      "PLUMED:   Grid bin 288 241\n",
      "PLUMED:   Grid uses spline interpolation\n",
      "PLUMED:   added component to this action:  mtd.work \n",
      "PLUMED:   Restarting from HILLS:      80000 Gaussians read\n",
      "PLUMED:   Bibliography [4][5]\n",
      "PLUMED: Action PRINT\n",
      "PLUMED:   with label @3\n",
      "PLUMED:   with stride 1\n",
      "PLUMED:   with arguments p1.sss p1.zzz mtd.bias\n",
      "PLUMED:   on file COLVAR\n",
      "PLUMED:   with format  %f\n",
      "PLUMED: END FILE: plumed.dat\n",
      "PLUMED: Timestep: 1.000000\n",
      "PLUMED: KbT has not been set by the MD engine\n",
      "PLUMED: It should be set by hand where needed\n",
      "PLUMED: Relevant bibliography:\n",
      "PLUMED:   [1] The PLUMED consortium, Nat. Methods 16, 670 (2019)\n",
      "PLUMED:   [2] Tribello, Bonomi, Branduardi, Camilloni, and Bussi, Comput. Phys. Commun. 185, 604 (2014)\n",
      "PLUMED:   [3] Branduardi, Gervasio, Parrinello J. Chem. Phys. 126, 054103 (2007)\n",
      "PLUMED:   [4] Laio and Parrinello, PNAS 99, 12562 (2002)\n",
      "PLUMED:   [5] Barducci, Bussi, and Parrinello, Phys. Rev. Lett. 100, 020603 (2008)\n",
      "PLUMED: Please read and cite where appropriate!\n",
      "PLUMED: Finished setup\n",
      "PLUMED:                                               Cycles        Total      Average      Minimum      Maximum\n",
      "PLUMED:                                                    1    28.924324    28.924324    28.924324    28.924324\n",
      "PLUMED: 1 Prepare dependencies                         13334     0.017003     0.000001     0.000001     0.000053\n",
      "PLUMED: 2 Sharing data                                 13334     4.750677     0.000356     0.000319     0.009335\n",
      "PLUMED: 3 Waiting for data                             13334     0.008203     0.000001     0.000000     0.000029\n",
      "PLUMED: 4 Calculating (forward loop)                   13334    11.545326     0.000866     0.000823     0.011937\n",
      "PLUMED: 5 Applying (backward loop)                     13334     3.831406     0.000287     0.000246     0.001059\n",
      "PLUMED: 6 Update                                       13334     0.156365     0.000012     0.000008     0.000086\n"
     ]
    }
   ],
   "source": [
    "%%bash\n",
    "plumed driver --plumed plumed.dat --mf_xtc abl1_md.xtc"
   ]
  },
  {
   "cell_type": "code",
   "execution_count": 6,
   "id": "cellular-album",
   "metadata": {},
   "outputs": [
    {
     "data": {
      "text/html": [
       "<div>\n",
       "<style scoped>\n",
       "    .dataframe tbody tr th:only-of-type {\n",
       "        vertical-align: middle;\n",
       "    }\n",
       "\n",
       "    .dataframe tbody tr th {\n",
       "        vertical-align: top;\n",
       "    }\n",
       "\n",
       "    .dataframe thead th {\n",
       "        text-align: right;\n",
       "    }\n",
       "</style>\n",
       "<table border=\"1\" class=\"dataframe\">\n",
       "  <thead>\n",
       "    <tr style=\"text-align: right;\">\n",
       "      <th></th>\n",
       "      <th>s(R)</th>\n",
       "      <th>z(R)</th>\n",
       "      <th>bias</th>\n",
       "    </tr>\n",
       "  </thead>\n",
       "  <tbody>\n",
       "    <tr>\n",
       "      <th>0</th>\n",
       "      <td>1.90</td>\n",
       "      <td>0.011533</td>\n",
       "      <td>149.325585</td>\n",
       "    </tr>\n",
       "    <tr>\n",
       "      <th>1</th>\n",
       "      <td>1.82</td>\n",
       "      <td>0.011707</td>\n",
       "      <td>148.022618</td>\n",
       "    </tr>\n",
       "    <tr>\n",
       "      <th>2</th>\n",
       "      <td>1.72</td>\n",
       "      <td>0.012545</td>\n",
       "      <td>147.008204</td>\n",
       "    </tr>\n",
       "    <tr>\n",
       "      <th>3</th>\n",
       "      <td>1.93</td>\n",
       "      <td>0.009537</td>\n",
       "      <td>143.402185</td>\n",
       "    </tr>\n",
       "    <tr>\n",
       "      <th>4</th>\n",
       "      <td>1.82</td>\n",
       "      <td>0.009520</td>\n",
       "      <td>141.415963</td>\n",
       "    </tr>\n",
       "    <tr>\n",
       "      <th>...</th>\n",
       "      <td>...</td>\n",
       "      <td>...</td>\n",
       "      <td>...</td>\n",
       "    </tr>\n",
       "    <tr>\n",
       "      <th>13329</th>\n",
       "      <td>90.42</td>\n",
       "      <td>0.026455</td>\n",
       "      <td>199.897369</td>\n",
       "    </tr>\n",
       "    <tr>\n",
       "      <th>13330</th>\n",
       "      <td>92.33</td>\n",
       "      <td>0.025622</td>\n",
       "      <td>198.335748</td>\n",
       "    </tr>\n",
       "    <tr>\n",
       "      <th>13331</th>\n",
       "      <td>94.45</td>\n",
       "      <td>0.024892</td>\n",
       "      <td>194.978573</td>\n",
       "    </tr>\n",
       "    <tr>\n",
       "      <th>13332</th>\n",
       "      <td>95.89</td>\n",
       "      <td>0.025026</td>\n",
       "      <td>192.737358</td>\n",
       "    </tr>\n",
       "    <tr>\n",
       "      <th>13333</th>\n",
       "      <td>98.01</td>\n",
       "      <td>0.026086</td>\n",
       "      <td>190.076079</td>\n",
       "    </tr>\n",
       "  </tbody>\n",
       "</table>\n",
       "<p>13334 rows × 3 columns</p>\n",
       "</div>"
      ],
      "text/plain": [
       "        s(R)      z(R)        bias\n",
       "0       1.90  0.011533  149.325585\n",
       "1       1.82  0.011707  148.022618\n",
       "2       1.72  0.012545  147.008204\n",
       "3       1.93  0.009537  143.402185\n",
       "4       1.82  0.009520  141.415963\n",
       "...      ...       ...         ...\n",
       "13329  90.42  0.026455  199.897369\n",
       "13330  92.33  0.025622  198.335748\n",
       "13331  94.45  0.024892  194.978573\n",
       "13332  95.89  0.025026  192.737358\n",
       "13333  98.01  0.026086  190.076079\n",
       "\n",
       "[13334 rows x 3 columns]"
      ]
     },
     "execution_count": 6,
     "metadata": {},
     "output_type": "execute_result"
    }
   ],
   "source": [
    "data=pd.read_csv(\"COLVAR\",sep=\"\\s+\", header=None, skiprows=1,usecols=[1,2,3]) \n",
    "data.columns=['s(R)','z(R)','bias']\n",
    "data['s(R)']=data['s(R)'].round(2)\n",
    "data"
   ]
  },
  {
   "cell_type": "markdown",
   "id": "square-shower",
   "metadata": {},
   "source": [
    "## Calculate Maximum bias"
   ]
  },
  {
   "cell_type": "code",
   "execution_count": 7,
   "id": "synthetic-melbourne",
   "metadata": {},
   "outputs": [],
   "source": [
    "bmax=data['bias'].max()"
   ]
  },
  {
   "cell_type": "markdown",
   "id": "blessed-concentration",
   "metadata": {},
   "source": [
    "# Calculate Boltzmann weights and write them to a file named \"sR.weight\""
   ]
  },
  {
   "cell_type": "code",
   "execution_count": 8,
   "id": "adjusted-aruba",
   "metadata": {},
   "outputs": [],
   "source": [
    "data['weights']=np.exp((data['bias']-bmax)/kbt)\n",
    "data.to_csv(\"sR.weight\",index=False,sep=\"\\t\",columns=['s(R)','weights'])"
   ]
  },
  {
   "cell_type": "markdown",
   "id": "hourly-amsterdam",
   "metadata": {},
   "source": [
    "## Calculate bin width"
   ]
  },
  {
   "cell_type": "code",
   "execution_count": 9,
   "id": "muslim-temperature",
   "metadata": {},
   "outputs": [
    {
     "data": {
      "text/plain": [
       "4.71"
      ]
     },
     "execution_count": 9,
     "metadata": {},
     "output_type": "execute_result"
    }
   ],
   "source": [
    "bin_width = round((maxS-minS)/float(nbin-1),2)\n",
    "bin_width"
   ]
  },
  {
   "cell_type": "markdown",
   "id": "democratic-arbitration",
   "metadata": {},
   "source": [
    "# Block averaging"
   ]
  },
  {
   "cell_type": "markdown",
   "id": "personal-austria",
   "metadata": {},
   "source": [
    "## Binning of data using cut: Create 20 equal-sized bins"
   ]
  },
  {
   "cell_type": "code",
   "execution_count": 10,
   "id": "unexpected-emerald",
   "metadata": {},
   "outputs": [
    {
     "data": {
      "text/html": [
       "<div>\n",
       "<style scoped>\n",
       "    .dataframe tbody tr th:only-of-type {\n",
       "        vertical-align: middle;\n",
       "    }\n",
       "\n",
       "    .dataframe tbody tr th {\n",
       "        vertical-align: top;\n",
       "    }\n",
       "\n",
       "    .dataframe thead th {\n",
       "        text-align: right;\n",
       "    }\n",
       "</style>\n",
       "<table border=\"1\" class=\"dataframe\">\n",
       "  <thead>\n",
       "    <tr style=\"text-align: right;\">\n",
       "      <th></th>\n",
       "      <th>s(R)</th>\n",
       "      <th>weights</th>\n",
       "      <th>bin_index</th>\n",
       "    </tr>\n",
       "  </thead>\n",
       "  <tbody>\n",
       "    <tr>\n",
       "      <th>0</th>\n",
       "      <td>1.90</td>\n",
       "      <td>3.688909e-12</td>\n",
       "      <td>0</td>\n",
       "    </tr>\n",
       "    <tr>\n",
       "      <th>1</th>\n",
       "      <td>1.82</td>\n",
       "      <td>2.187942e-12</td>\n",
       "      <td>0</td>\n",
       "    </tr>\n",
       "    <tr>\n",
       "      <th>2</th>\n",
       "      <td>1.72</td>\n",
       "      <td>1.456847e-12</td>\n",
       "      <td>0</td>\n",
       "    </tr>\n",
       "    <tr>\n",
       "      <th>3</th>\n",
       "      <td>1.93</td>\n",
       "      <td>3.432121e-13</td>\n",
       "      <td>0</td>\n",
       "    </tr>\n",
       "    <tr>\n",
       "      <th>4</th>\n",
       "      <td>1.82</td>\n",
       "      <td>1.547881e-13</td>\n",
       "      <td>0</td>\n",
       "    </tr>\n",
       "    <tr>\n",
       "      <th>...</th>\n",
       "      <td>...</td>\n",
       "      <td>...</td>\n",
       "      <td>...</td>\n",
       "    </tr>\n",
       "    <tr>\n",
       "      <th>13329</th>\n",
       "      <td>90.42</td>\n",
       "      <td>2.355348e-03</td>\n",
       "      <td>20</td>\n",
       "    </tr>\n",
       "    <tr>\n",
       "      <th>13330</th>\n",
       "      <td>92.33</td>\n",
       "      <td>1.259384e-03</td>\n",
       "      <td>20</td>\n",
       "    </tr>\n",
       "    <tr>\n",
       "      <th>13331</th>\n",
       "      <td>94.45</td>\n",
       "      <td>3.278185e-04</td>\n",
       "      <td>21</td>\n",
       "    </tr>\n",
       "    <tr>\n",
       "      <th>13332</th>\n",
       "      <td>95.89</td>\n",
       "      <td>1.334784e-04</td>\n",
       "      <td>21</td>\n",
       "    </tr>\n",
       "    <tr>\n",
       "      <th>13333</th>\n",
       "      <td>98.01</td>\n",
       "      <td>4.592510e-05</td>\n",
       "      <td>21</td>\n",
       "    </tr>\n",
       "  </tbody>\n",
       "</table>\n",
       "<p>13334 rows × 3 columns</p>\n",
       "</div>"
      ],
      "text/plain": [
       "        s(R)       weights bin_index\n",
       "0       1.90  3.688909e-12         0\n",
       "1       1.82  2.187942e-12         0\n",
       "2       1.72  1.456847e-12         0\n",
       "3       1.93  3.432121e-13         0\n",
       "4       1.82  1.547881e-13         0\n",
       "...      ...           ...       ...\n",
       "13329  90.42  2.355348e-03        20\n",
       "13330  92.33  1.259384e-03        20\n",
       "13331  94.45  3.278185e-04        21\n",
       "13332  95.89  1.334784e-04        21\n",
       "13333  98.01  4.592510e-05        21\n",
       "\n",
       "[13334 rows x 3 columns]"
      ]
     },
     "execution_count": 10,
     "metadata": {},
     "output_type": "execute_result"
    }
   ],
   "source": [
    "weightdf=pd.read_csv('sR.weight',sep=\"\\t\")\n",
    "weightdf.columns=['s(R)','weights']\n",
    "weightdf['bin_index'] = pd.cut(weightdf['s(R)'],bins=nbin,labels=[i for i in range(nbin)]) \n",
    "weightdf"
   ]
  },
  {
   "cell_type": "code",
   "execution_count": 11,
   "id": "according-techno",
   "metadata": {},
   "outputs": [
    {
     "data": {
      "text/plain": [
       "[0,\n",
       " 1,\n",
       " 2,\n",
       " 3,\n",
       " 4,\n",
       " 5,\n",
       " 6,\n",
       " 7,\n",
       " 8,\n",
       " 9,\n",
       " 10,\n",
       " 11,\n",
       " 12,\n",
       " 13,\n",
       " 14,\n",
       " 15,\n",
       " 16,\n",
       " 17,\n",
       " 18,\n",
       " 19,\n",
       " 20,\n",
       " 21,\n",
       " 22,\n",
       " 23,\n",
       " 24]"
      ]
     },
     "execution_count": 11,
     "metadata": {},
     "output_type": "execute_result"
    }
   ],
   "source": [
    "bin_list=list(weightdf['bin_index'].unique())\n",
    "bin_list"
   ]
  },
  {
   "cell_type": "code",
   "execution_count": 12,
   "id": "rural-gender",
   "metadata": {},
   "outputs": [
    {
     "data": {
      "text/plain": [
       "array([ 10,  20,  30,  40,  50,  60,  70,  80,  90, 100, 110, 120, 130,\n",
       "       140, 150, 160, 170, 180, 190, 200, 210, 220, 230, 240, 250, 260,\n",
       "       270, 280, 290, 300, 310, 320, 330, 340, 350, 360, 370, 380, 390,\n",
       "       400, 410, 420, 430, 440, 450, 460, 470, 480, 490, 500])"
      ]
     },
     "execution_count": 12,
     "metadata": {},
     "output_type": "execute_result"
    }
   ],
   "source": [
    "block_size = np.array([i for i in range(10,510,10)])\n",
    "block_size"
   ]
  },
  {
   "cell_type": "code",
   "execution_count": 13,
   "id": "massive-garbage",
   "metadata": {},
   "outputs": [
    {
     "data": {
      "text/plain": [
       "50"
      ]
     },
     "execution_count": 13,
     "metadata": {},
     "output_type": "execute_result"
    }
   ],
   "source": [
    "nblocks = np.array(len(data)/block_size).astype(int)\n",
    "len(nblocks)"
   ]
  },
  {
   "cell_type": "code",
   "execution_count": 14,
   "id": "dental-nursery",
   "metadata": {},
   "outputs": [
    {
     "data": {
      "text/plain": [
       "50"
      ]
     },
     "execution_count": 14,
     "metadata": {},
     "output_type": "execute_result"
    }
   ],
   "source": [
    "xbar_xbarsq=[]\n",
    "for i in range(0,len(nblocks)):\n",
    "    xbar=pd.Series(index=bin_list,dtype=float,data=0)\n",
    "    xbarsq=pd.Series(index=bin_list,dtype=float,data=0)\n",
    "    for nblock in range(0, nblocks[i]):\n",
    "        start = nblock * block_size[i]\n",
    "        end = start + block_size[i]\n",
    "        weightcopy=weightdf.copy()\n",
    "        grp=weightcopy[start:end].groupby('bin_index')\n",
    "        block_ave=grp['weights'].sum()/block_size[i]\n",
    "        ind_list=list(block_ave.index)\n",
    "        for ind in range(len(ind_list)):\n",
    "            xbar[ind]+=block_ave[ind]\n",
    "            xbarsq[ind]+=block_ave[ind]*block_ave[ind]\n",
    "    xbar_xbarsq.append((nblocks[i],block_size[i],xbar,xbarsq))\n",
    "        \n",
    "length=len(xbar_xbarsq)\n",
    "length"
   ]
  },
  {
   "cell_type": "code",
   "execution_count": 20,
   "id": "destroyed-makeup",
   "metadata": {},
   "outputs": [
    {
     "data": {
      "image/png": "[encoded data removed]",
      "text/plain": [
       "<Figure size 504x237.6 with 1 Axes>"
      ]
     },
     "metadata": {
      "needs_background": "light"
     },
     "output_type": "display_data"
    }
   ],
   "source": [
    "fig,ax=plt.subplots(figsize=(7,3.3))\n",
    "sR_series = pd.Series(dtype=float,data=[(minS + (float(i) * bin_width)) for i in range(len(bin_list))])\n",
    "for i in range(length):\n",
    "    numblock=xbar_xbarsq[i][0]\n",
    "    blocksize=xbar_xbarsq[i][1]\n",
    "    result=pd.DataFrame()\n",
    "    result['s(R)']=sR_series\n",
    "    result['norm s(R)']=(result['s(R)']-minS)/(maxS-minS)\n",
    "    result['Weight']=xbar_xbarsq[i][2]/blocksize\n",
    "    result['Free Energy']=-kbt * np.log(result['Weight'])\n",
    "    result['<x**2>']= (xbar_xbarsq[i][3]-result['Weight']**2)/(blocksize-1)\n",
    "    result['error']=kbt*(np.sqrt(result['<x**2>']/blocksize))/result['Weight']\n",
    "    \n",
    "    outdf=result[['s(R)','norm s(R)','Free Energy','error']].copy()\n",
    "    outdf['Free Energy']=(outdf['Free Energy']-outdf['Free Energy'].min())/4.184\n",
    "    outdf['error']=outdf['error']/4.184\n",
    "    outdf=outdf.round(2)\n",
    "    outdf.to_csv(f'fes{blocksize}-np.dat',sep=\"\\t\",index=False)\n",
    "\n",
    "\n",
    "\n",
    "ax.errorbar(x=outdf['norm s(R)'],y=outdf['Free Energy'],yerr=outdf['error'],ls='dotted',marker=\"_\",markersize=20,ecolor='red')\n",
    "ax.set_xlabel(r'$\\hat s(R)$')\n",
    "ax.set_ylabel('$\\Delta$' '$\\it{G}$' \" (kcal/mol)\")\n",
    "ax.set_ylim([-2.5,17])\n",
    "\n",
    "plt.rcParams['font.family'] = \"sans-serif\"\n",
    "\n",
    "ax.xaxis.set_minor_locator(ticker.MultipleLocator(0.125))\n",
    "ax.yaxis.set_minor_locator(ticker.MultipleLocator(1.25))\n",
    "\n",
    "plt.tight_layout()\n",
    "plt.savefig(\"profile-non-phos.pdf\",dpi=600)"
   ]
  },
  {
   "cell_type": "markdown",
   "id": "legitimate-angel",
   "metadata": {},
   "source": [
    "### Error estimation\n",
    "For each value of block length N, you will obtain a separate fesN.dat file, containing the value of the p1.sss variable on a grid, the average free-energy, and the associated error (in kJ/mol)\n",
    "we can calculate the average error along the free-energy profile as a function of the block length\n"
   ]
  },
  {
   "cell_type": "code",
   "execution_count": 21,
   "id": "municipal-pearl",
   "metadata": {},
   "outputs": [],
   "source": [
    "%%bash\n",
    "echo > err.blocks\n",
    "for i in {10..500..10}\n",
    "do\n",
    " a=$(awk '{tot+=$4}END{print (tot/NR)}' fes\"$i\"-np.dat)\n",
    " echo $i $a >> err.blocks\n",
    "done"
   ]
  },
  {
   "cell_type": "code",
   "execution_count": 22,
   "id": "durable-lunch",
   "metadata": {},
   "outputs": [
    {
     "data": {
      "image/png": "[encoded data removed]",
      "text/plain": [
       "<Figure size 237.6x237.6 with 1 Axes>"
      ]
     },
     "metadata": {
      "needs_background": "light"
     },
     "output_type": "display_data"
    }
   ],
   "source": [
    "df=pd.read_csv(\"err.blocks\",sep=\"\\s+\",header=None,skiprows=1)\n",
    "\n",
    "fig,ax=plt.subplots(figsize=(3.3,3.3))\n",
    "\n",
    "\n",
    "ax.plot(df[0],df[1])\n",
    "ax.set_ylim([0.10,0.40])\n",
    "ax.set_xlim([0,500])\n",
    "ax.set_xlabel(r'Block size')\n",
    "ax.set_ylabel('Error (kcal/mol)')\n",
    "\n",
    "plt.rcParams['font.family'] = \"sans-serif\"\n",
    "\n",
    "ax.xaxis.set_minor_locator(ticker.MultipleLocator(50))\n",
    "ax.yaxis.set_minor_locator(ticker.MultipleLocator(0.025))\n",
    "plt.tight_layout()\n",
    "plt.savefig(\"error-non-phos.pdf\",dpi=600)"
   ]
  },
  {
   "cell_type": "code",
   "execution_count": null,
   "id": "explicit-mechanics",
   "metadata": {},
   "outputs": [],
   "source": []
  }
 ],
 "metadata": {
  "kernelspec": {
   "display_name": "Python 3",
   "language": "python",
   "name": "python3"
  },
  "language_info": {
   "codemirror_mode": {
    "name": "ipython",
    "version": 3
   },
   "file_extension": ".py",
   "mimetype": "text/x-python",
   "name": "python",
   "nbconvert_exporter": "python",
   "pygments_lexer": "ipython3",
   "version": "3.7.9"
  }
 },
 "nbformat": 4,
 "nbformat_minor": 5
}
