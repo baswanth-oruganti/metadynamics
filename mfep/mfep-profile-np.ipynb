{
 "cells": [
  {
   "cell_type": "code",
   "execution_count": 16,
   "metadata": {},
   "outputs": [],
   "source": [
    "import sys\n",
    "import numpy as np\n",
    "import pandas as pd"
   ]
  },
  {
   "cell_type": "markdown",
   "metadata": {},
   "source": [
    "### Extract Minimum Free Energy Path as a function of s(R) from the free-energy surface obtained from the metadynamics simulations that is a function of both s(R) and z(R)"
   ]
  },
  {
   "cell_type": "markdown",
   "metadata": {},
   "source": [
    "Note that min S and max S are the s(R) values of the first frame and final frame included in the reference path for performing metadynamics simulations. minS_actual and maxS_actual are the minimum and maximum s(R) values observed in the metadynamics simulations."
   ]
  },
  {
   "cell_type": "code",
   "execution_count": 17,
   "metadata": {},
   "outputs": [],
   "source": [
    "minS=1.0\n",
    "maxS=114.0\n",
    "minS_actual=1.0\n",
    "maxS_actual=112"
   ]
  },
  {
   "cell_type": "markdown",
   "metadata": {},
   "source": [
    "Read the free energies obtained at the end of the simulations and filter out any s(R) values that are greater than maxS_actual"
   ]
  },
  {
   "cell_type": "code",
   "execution_count": 18,
   "metadata": {},
   "outputs": [],
   "source": [
    "data=pd.read_csv(\"fes.dat\",header=None,sep=\"\\s+\",skiprows=9,usecols=[i for i in range(3)])\n",
    "data.columns = [\"s(R)\",\"z(R)\", f\"$\\Delta$G\"]\n",
    "data=data[(data[\"s(R)\"]>minS_actual) & (data[\"s(R)\"]<maxS_actual) & (data[\"z(R)\"]>0.0)]"
   ]
  },
  {
   "cell_type": "markdown",
   "metadata": {},
   "source": [
    "Convert z(R) from nm$^2$ to Å$^2$ and free energies from kJ/mol to kcal/mol"
   ]
  },
  {
   "cell_type": "code",
   "execution_count": 19,
   "metadata": {},
   "outputs": [],
   "source": [
    "data[\"z(R)\"]=data[\"z(R)\"]*100\n",
    "data[f\"$\\Delta$G\"]=data[f\"$\\Delta$G\"]/4.2"
   ]
  },
  {
   "cell_type": "markdown",
   "metadata": {},
   "source": [
    "Divide s(R) data into 25 equally sized bins and within the each bin extract the minimum free energy (G)"
   ]
  },
  {
   "cell_type": "code",
   "execution_count": 20,
   "metadata": {},
   "outputs": [],
   "source": [
    "bins=pd.cut(data[\"s(R)\"],bins=25)\n",
    "g=data[\"$\\Delta$G\"].groupby(bins).min()"
   ]
  },
  {
   "cell_type": "markdown",
   "metadata": {},
   "source": [
    "For minimum G in each bin, extract the associated s(R) and z(R) values"
   ]
  },
  {
   "cell_type": "code",
   "execution_count": 21,
   "metadata": {},
   "outputs": [],
   "source": [
    "z=np.array([data[data[\"$\\Delta$G\"]==i]['z(R)'] for i in g])\n",
    "s=np.array([data[data[\"$\\Delta$G\"]==i]['s(R)'] for i in g])"
   ]
  },
  {
   "cell_type": "markdown",
   "metadata": {},
   "source": [
    " Store the extracted minimum G values and associated s(R) and z(R) values in a file named mfep-profile-np.dat"
   ]
  },
  {
   "cell_type": "code",
   "execution_count": 22,
   "metadata": {},
   "outputs": [],
   "source": [
    "gprofile=pd.DataFrame(columns=[\"s(R)\",\"z(R)\",\"G\"],index=[i for i in range(1,26)])\n",
    "gprofile[\"G\"]=g.unique().round(1)\n",
    "gprofile[\"s(R)\"]=s.round(1)\n",
    "gprofile[\"z(R)\"]=z.round(1)\n",
    "gprofile.to_csv(\"mfep-profile-np.dat\",sep=\"\\t\",index=None,float_format=\"%5.1f\")"
   ]
  }
 ],
 "metadata": {
  "kernelspec": {
   "display_name": "Python 3",
   "language": "python",
   "name": "python3"
  },
  "language_info": {
   "codemirror_mode": {
    "name": "ipython",
    "version": 3
   },
   "file_extension": ".py",
   "mimetype": "text/x-python",
   "name": "python",
   "nbconvert_exporter": "python",
   "pygments_lexer": "ipython3",
   "version": "3.7.9"
  }
 },
 "nbformat": 4,
 "nbformat_minor": 2
}
